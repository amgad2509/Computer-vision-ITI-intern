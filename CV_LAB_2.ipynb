{
 "cells": [
  {
   "cell_type": "code",
   "execution_count": 1,
   "id": "92f5d2f3",
   "metadata": {},
   "outputs": [],
   "source": [
    "import cv2\n",
    "import matplotlib.pyplot as plt\n",
    "import numpy as np"
   ]
  },
  {
   "cell_type": "markdown",
   "id": "17f72d30",
   "metadata": {},
   "source": [
    "# Q1Make 100*100 rgb pixel image with white background and make diagonal of image with black color."
   ]
  },
  {
   "cell_type": "code",
   "execution_count": 2,
   "id": "91f0ab61",
   "metadata": {},
   "outputs": [
    {
     "data": {
      "text/plain": [
       "<matplotlib.image.AxesImage at 0x233a1dadc40>"
      ]
     },
     "execution_count": 2,
     "metadata": {},
     "output_type": "execute_result"
    },
    {
     "data": {
      "image/png": "[encoded data removed]",
      "text/plain": [
       "<Figure size 432x288 with 1 Axes>"
      ]
     },
     "metadata": {
      "needs_background": "light"
     },
     "output_type": "display_data"
    }
   ],
   "source": [
    "img = np.ones((100,100,3))\n",
    "plt.imshow(img)"
   ]
  },
  {
   "cell_type": "code",
   "execution_count": 3,
   "id": "b1d04c3e",
   "metadata": {},
   "outputs": [
    {
     "data": {
      "text/plain": [
       "<matplotlib.image.AxesImage at 0x233a1e5e0d0>"
      ]
     },
     "execution_count": 3,
     "metadata": {},
     "output_type": "execute_result"
    },
    {
     "data": {
      "image/png": "[encoded data removed]",
      "text/plain": [
       "<Figure size 432x288 with 1 Axes>"
      ]
     },
     "metadata": {
      "needs_background": "light"
     },
     "output_type": "display_data"
    }
   ],
   "source": [
    "for i, row in enumerate(img):\n",
    "    for j, col in enumerate(row):\n",
    "        if (i==j):\n",
    "            img[i,j] = 0\n",
    "\n",
    "plt.imshow(img, cmap='gray')"
   ]
  },
  {
   "cell_type": "markdown",
   "id": "39aa22a3",
   "metadata": {},
   "source": [
    "# Q2- run video stream using your laptop camera and save frames when i press key “s” close camera when i press “q” ,name of images should be “img.png +{counter}”"
   ]
  },
  {
   "cell_type": "code",
   "execution_count": 4,
   "id": "38ba5a4a",
   "metadata": {},
   "outputs": [],
   "source": [
    "frame_count = 0\n",
    "cap = cv2.VideoCapture('11_output.avi')\n",
    "while(cap.isOpened()):\n",
    "    ret, frame = cap.read()\n",
    "    if (ret == True):\n",
    "        frame_count += 1\n",
    "        cv2.imshow('Frame', frame)\n",
    "        k = cv2.waitKey(50) # 0 indicates infinete loop\n",
    "        if k == ord('q'):\n",
    "            break\n",
    "        #elif k == ord('s'):\n",
    "        cv2.imwrite(f'img{frame_count}.png', frame)\n",
    "    else:\n",
    "        break\n",
    "\n",
    "cap.release()\n",
    "cv2.destroyAllWindows()"
   ]
  },
  {
   "cell_type": "markdown",
   "id": "75a9af85",
   "metadata": {},
   "source": [
    "# Q3 Make 100*100 rgb pixel image with black background and make diagonal of image with (x) color such that x is came from rgb trackbar."
   ]
  },
  {
   "cell_type": "code",
   "execution_count": 17,
   "id": "0c05ebba",
   "metadata": {},
   "outputs": [],
   "source": [
    "cv2.namedWindow('image')\n",
    "\n",
    "def pas(x):\n",
    "    pass\n",
    "\n",
    "cv2.createTrackbar('R','image',0,255,pas)\n",
    "cv2.createTrackbar('G','image',0,255,pas)\n",
    "cv2.createTrackbar('B','image',0,255,pas)\n",
    "img = np.zeros((100,100,3),np.uint8)\n",
    "while True:\n",
    "    r = cv2.getTrackbarPos('R', 'image')\n",
    "    g = cv2.getTrackbarPos('G', 'image')\n",
    "    b = cv2.getTrackbarPos('B', 'image')\n",
    "    for i, row in enumerate(img):\n",
    "        for j, col in enumerate(row):\n",
    "            if (i==j):\n",
    "                img[i,j] = [r,g,b]\n",
    "    \n",
    "    cv2.imshow('image',img)\n",
    "    k = cv2.waitKey(1)\n",
    "    if k == ord('q'):\n",
    "        break\n",
    "\n",
    "cv2.destroyAllWindows()\n",
    "    \n"
   ]
  },
  {
   "cell_type": "markdown",
   "id": "97cab004",
   "metadata": {},
   "source": [
    " # Q4create 100*100 rgb image with black background and make 1 vertical line and 1 horizontal line the color of both should be controlled spereat from 2 trackbar First one “horz” and second one is “vert” "
   ]
  },
  {
   "cell_type": "code",
   "execution_count": 22,
   "id": "99fd8dc6",
   "metadata": {},
   "outputs": [],
   "source": [
    "cv2.namedWindow('image')\n",
    "\n",
    "def pas(x):\n",
    "    pass\n",
    "\n",
    "cv2.createTrackbar('VertRed','image',0,255,pas)\n",
    "cv2.createTrackbar('VertGreen','image',0,255,pas)\n",
    "cv2.createTrackbar('VertBlue','image',0,255,pas)\n",
    "cv2.createTrackbar('HorzRed','image',0,255,pas)\n",
    "cv2.createTrackbar('HorzGreen','image',0,255,pas)\n",
    "cv2.createTrackbar('HorzBlue','image',0,255,pas)\n",
    "\n",
    "\n",
    "img = np.zeros((100,100,3),np.uint8)\n",
    "while True:\n",
    "    vred = cv2.getTrackbarPos('VertRed', 'image')\n",
    "    vgreen = cv2.getTrackbarPos('VertGreen', 'image')\n",
    "    vblue = cv2.getTrackbarPos('VertBlue', 'image')\n",
    "\n",
    "    hred = cv2.getTrackbarPos('HorzRed', 'image')\n",
    "    hgreen = cv2.getTrackbarPos('HorzGreen', 'image')\n",
    "    hblue =cv2.getTrackbarPos('HorzBlue', 'image')\n",
    "    img[10] = [hred,hgreen,hblue]\n",
    "    img[:,90] = [vred,vgreen,vblue]\n",
    "    \n",
    "    cv2.imshow('image',img)\n",
    "    k = cv2.waitKey(1)\n",
    "    if k == ord('q'):\n",
    "        break\n",
    "\n",
    "cv2.destroyAllWindows()\n",
    "    "
   ]
  },
  {
   "cell_type": "markdown",
   "id": "157dbaed",
   "metadata": {},
   "source": [
    "# Q5 create 250*250 rgb image with black background and make 1 vertical line and 1 horizontal line with red color and both should be controlled spereat from 2 trackbar to select the horizontal line in which row and vertical line in which column. First one “horz” and second one is “vert” (Trackbar) "
   ]
  },
  {
   "cell_type": "code",
   "execution_count": 25,
   "id": "68f2f84a",
   "metadata": {},
   "outputs": [],
   "source": [
    "cv2.namedWindow('image')\n",
    "\n",
    "def func(x):\n",
    "    pass\n",
    "\n",
    "cv2.createTrackbar('Vert','image',0,511,func)\n",
    "cv2.createTrackbar('Horz','image',0,511,func)\n",
    "\n",
    "img = np.zeros((512,512,3),np.uint8)\n",
    "while True:\n",
    "    v = cv2.getTrackbarPos('Vert', 'image')\n",
    "    h = cv2.getTrackbarPos('Horz', 'image')\n",
    "    img[:] = 0\n",
    "    img[h] = [0,0,255]\n",
    "    img[:,v] = [0,0,255]\n",
    "    \n",
    "    cv2.imshow('image',img)\n",
    "    k = cv2.waitKey(1)\n",
    "    if k == ord('q'):\n",
    "        break\n",
    "\n",
    "cv2.destroyAllWindows()"
   ]
  },
  {
   "cell_type": "code",
   "execution_count": null,
   "id": "c3493668",
   "metadata": {},
   "outputs": [],
   "source": []
  }
 ],
 "metadata": {
  "kernelspec": {
   "display_name": "Python 3",
   "language": "python",
   "name": "python3"
  },
  "language_info": {
   "codemirror_mode": {
    "name": "ipython",
    "version": 3
   },
   "file_extension": ".py",
   "mimetype": "text/x-python",
   "name": "python",
   "nbconvert_exporter": "python",
   "pygments_lexer": "ipython3",
   "version": "3.8.3"
  }
 },
 "nbformat": 4,
 "nbformat_minor": 5
}
