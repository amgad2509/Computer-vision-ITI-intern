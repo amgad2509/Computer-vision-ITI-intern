{
 "cells": [
  {
   "cell_type": "code",
   "execution_count": 1,
   "id": "811e0ec0",
   "metadata": {},
   "outputs": [],
   "source": [
    "import numpy as np\n",
    "import cv2\n",
    "import matplotlib.pyplot as plt\n",
    "import helpers"
   ]
  },
  {
   "cell_type": "markdown",
   "id": "64a3b61a",
   "metadata": {},
   "source": [
    "# Q1 Make Trackbar for the following images to tune the parameters of canny detection."
   ]
  },
  {
   "cell_type": "code",
   "execution_count": 2,
   "id": "4262ad0d",
   "metadata": {},
   "outputs": [
    {
     "name": "stdout",
     "output_type": "stream",
     "text": [
      "<class 'numpy.ndarray'>\n",
      "20 100\n"
     ]
    }
   ],
   "source": [
    "# First Image \n",
    "image = cv2.imread('solidWhiteCurve.jpg')\n",
    "print(type(image))\n",
    "gray = cv2.cvtColor(image ,cv2.COLOR_BGR2GRAY)\n",
    "blur_gray = cv2.GaussianBlur(gray,(3,3),0)\n",
    "\n",
    "cv2.namedWindow('Edge Detection')\n",
    "def nothing(x):\n",
    "    pass\n",
    "\n",
    "cv2.createTrackbar('Threshold_1','Edge Detection',20,100,nothing)\n",
    "cv2.createTrackbar('Threshold_2','Edge Detection',100,200,nothing)\n",
    "t1 = t2 = 0\n",
    "while 1:\n",
    "    t1 = cv2.getTrackbarPos('Threshold_1','Edge Detection')\n",
    "    t2 = cv2.getTrackbarPos('Threshold_2','Edge Detection')\n",
    "    edges_image = cv2.Canny(blur_gray,t1,t2)\n",
    "\n",
    "    cv2.imshow('Edge Detection',edges_image)\n",
    "    if cv2.waitKey(1) == ord('q'):\n",
    "        break\n",
    "\n",
    "cv2.destroyAllWindows()\n",
    "print(t1,t2)"
   ]
  },
  {
   "cell_type": "markdown",
   "id": "494358ce",
   "metadata": {},
   "source": [
    "### My observation is Trackbar is the best solution to know our pramters ... like in this situation when we increase threshold 1 and 2 the edges will appear clear without any addition details "
   ]
  },
  {
   "cell_type": "markdown",
   "id": "3b7654c6",
   "metadata": {},
   "source": [
    "# Q2 The out of question 1 make it as input for question 2 after make region of interest then make trackbar for houghlines parameters (threshold ,min_line_length ,max_line_gap)\n"
   ]
  },
  {
   "cell_type": "code",
   "execution_count": 2,
   "id": "b751bf15",
   "metadata": {},
   "outputs": [],
   "source": [
    "def helpers_masked_edges(edges):\n",
    "    mask = np.zeros_like(edges)\n",
    "    #defining a 3 channel or 1 channel color to fill the mask with depending on the input image\n",
    "    if len(edges.shape) > 2:\n",
    "        channel_count = edges.shape[2]  # i.e. 3 or 4 depending on your image\n",
    "        ignore_mask_color = (255,) * channel_count\n",
    "    else:\n",
    "        ignore_mask_color = 255\n",
    "    imshape = edges.shape        \n",
    "    vertices = np.array([[((1/6*imshape[1]),imshape[0]),((5/12*imshape[1]), (3/5*imshape[0])), ((7/12*imshape[1]), (3/5*imshape[0])), ((9/10*imshape[1]),imshape[0])]], dtype=np.int32)\n",
    "    cv2.fillPoly(mask, vertices, ignore_mask_color)\n",
    "    masked_edges = cv2.bitwise_and(edges, mask)\n",
    "    return(masked_edges)"
   ]
  },
  {
   "cell_type": "code",
   "execution_count": 3,
   "id": "b7058c5b",
   "metadata": {},
   "outputs": [],
   "source": [
    "RHO = 1                \n",
    "THETA = np.pi/180       \n",
    "def hough_lines(img, MIN_VOTES, MIN_LINE_LEN, MAX_LINE_GAP):\n",
    "    lines = cv2.HoughLinesP(img, RHO, THETA, MIN_VOTES, np.array([]), minLineLength=MIN_LINE_LEN, maxLineGap=MAX_LINE_GAP)\n",
    "    return lines"
   ]
  },
  {
   "cell_type": "code",
   "execution_count": 4,
   "id": "05a42477",
   "metadata": {},
   "outputs": [],
   "source": [
    "def helpers_draw_lines(lines, masked_edges):\n",
    "    color = [243, 105, 14]\n",
    "    thickness = 12\n",
    "    lines_image = np.zeros((masked_edges.shape[0], masked_edges.shape[1], 3), dtype=np.uint8)\n",
    "    for line in lines:\n",
    "        for x1,y1,x2,y2 in line:\n",
    "            cv2.line(lines_image, (x1, y1), (x2, y2), color, thickness)\n",
    "    return(lines_image)"
   ]
  },
  {
   "cell_type": "code",
   "execution_count": 5,
   "id": "bd0aa003",
   "metadata": {},
   "outputs": [],
   "source": [
    "def helpers_edges(gray,threshold1,threshold2):\n",
    "    kernel_size = 5 #kernel size for Gaussian smoothing / blurring\n",
    "    blur_gray= cv2.GaussianBlur(gray, (kernel_size, kernel_size), 0)#Gaussian smoothing / blurring\n",
    "\n",
    "    edges = cv2.Canny(blur_gray, threshold1, threshold2)\n",
    "    return(edges)\n",
    "\n",
    "def func(x):\n",
    "    pass\n",
    "\n",
    "cv2.namedWindow('image')\n",
    "cv2.createTrackbar('MIN_VOTES','image',10,50,func)   \n",
    "cv2.createTrackbar('MIN_LINE_LEN','image',1,200,func)   \n",
    "cv2.createTrackbar('MAX_LINE_GAP','image',1,200,func) \n",
    "while True:\n",
    "    image = cv2.imread('solidWhiteCurve.jpg') \n",
    "    image = cv2.cvtColor(image, cv2.COLOR_BGR2RGB)\n",
    "    gray_img = cv2.cvtColor(image, cv2.COLOR_RGB2GRAY)\n",
    "    edges_img = helpers_edges(gray_img,50,64)\n",
    "    ROI_edges_img = helpers_masked_edges(edges_img)\n",
    "    min_votes = cv2.getTrackbarPos('MIN_VOTES','image')\n",
    "    min_line_len = cv2.getTrackbarPos('MIN_LINE_LEN','image')\n",
    "    max_line_gap = cv2.getTrackbarPos('MAX_LINE_GAP','image')\n",
    "    lines = hough_lines(ROI_edges_img, min_votes, min_line_len, max_line_gap)\n",
    "    hough_lines_image = helpers_draw_lines(lines, ROI_edges_img)\n",
    "    cv2.imshow('image',hough_lines_image)\n",
    "    k = cv2.waitKey(1)\n",
    "    if k == ord('q'):\n",
    "        break\n",
    "\n",
    "cv2.destroyAllWindows()"
   ]
  },
  {
   "cell_type": "markdown",
   "id": "cd7c1856",
   "metadata": {},
   "source": [
    "### My observation is , the the best parameters is Min_Votes = 15, MIN_LINE_LEN = 115, MAX_LINE_GAP = 34\n"
   ]
  },
  {
   "cell_type": "code",
   "execution_count": null,
   "id": "31480da5",
   "metadata": {},
   "outputs": [],
   "source": []
  }
 ],
 "metadata": {
  "kernelspec": {
   "display_name": "Python 3",
   "language": "python",
   "name": "python3"
  },
  "language_info": {
   "codemirror_mode": {
    "name": "ipython",
    "version": 3
   },
   "file_extension": ".py",
   "mimetype": "text/x-python",
   "name": "python",
   "nbconvert_exporter": "python",
   "pygments_lexer": "ipython3",
   "version": "3.8.3"
  }
 },
 "nbformat": 4,
 "nbformat_minor": 5
}
